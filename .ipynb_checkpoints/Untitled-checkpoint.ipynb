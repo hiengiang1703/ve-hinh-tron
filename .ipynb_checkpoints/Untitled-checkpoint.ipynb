{
 "cells": [
  {
   "cell_type": "code",
   "execution_count": 1,
   "id": "000b32d5",
   "metadata": {},
   "outputs": [],
   "source": [
    "import turtle\n",
    "turtle.Screen().bgcolor(\"cadetblue1\")\n",
    "\n",
    "t = turtle.Turtle()\n",
    "n = 200\n",
    "\n",
    "t.pensize(2)\n",
    "\n",
    "t.penup()\n",
    "t.goto(-200,-200)\n",
    "t.pendown()\n",
    "\n",
    "# vẽ hình tròn_di chuyển thay đổi kích thước\n",
    "#vẽ hình tròn\n",
    "t.fillcolor(\"blue\")\n",
    "t.begin_fill()\n",
    "t.circle(150)\n",
    "t.end_fill()\n",
    "#di chuyển thay đổi kích thước\n",
    "t.fillcolor(\"aquamarine3\")\n",
    "t.begin_fill()\n",
    "t.penup()\n",
    "t.goto(200,-200)\n",
    "t.pendown()\n",
    "t.circle(200)\n",
    "t.end_fill()\n",
    "turtle.done()\n",
    "\n"
   ]
  }
 ],
 "metadata": {
  "kernelspec": {
   "display_name": "Python 3",
   "language": "python",
   "name": "python3"
  },
  "language_info": {
   "codemirror_mode": {
    "name": "ipython",
    "version": 3
   },
   "file_extension": ".py",
   "mimetype": "text/x-python",
   "name": "python",
   "nbconvert_exporter": "python",
   "pygments_lexer": "ipython3",
   "version": "3.6.7rc1"
  }
 },
 "nbformat": 4,
 "nbformat_minor": 5
}
